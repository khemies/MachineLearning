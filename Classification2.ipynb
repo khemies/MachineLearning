{
 "cells": [
  {
   "cell_type": "markdown",
   "id": "2e3561eb",
   "metadata": {},
   "source": [
    "# Analyse de Clustering et de Classification sur le Jeu de Données des Maladies Cardiaques"
   ]
  },
  {
   "cell_type": "markdown",
   "id": "b9c21f38",
   "metadata": {},
   "source": [
    "### 1.Préparation des Données :"
   ]
  },
  {
   "cell_type": "code",
   "execution_count": 27,
   "id": "3e33caf5",
   "metadata": {},
   "outputs": [],
   "source": [
    "import pandas as pd\n",
    "import matplotlib.pyplot as plt\n",
    "import numpy as np"
   ]
  },
  {
   "cell_type": "code",
   "execution_count": 35,
   "id": "2c3dfd80",
   "metadata": {},
   "outputs": [
    {
     "data": {
      "text/html": [
       "<div>\n",
       "<style scoped>\n",
       "    .dataframe tbody tr th:only-of-type {\n",
       "        vertical-align: middle;\n",
       "    }\n",
       "\n",
       "    .dataframe tbody tr th {\n",
       "        vertical-align: top;\n",
       "    }\n",
       "\n",
       "    .dataframe thead th {\n",
       "        text-align: right;\n",
       "    }\n",
       "</style>\n",
       "<table border=\"1\" class=\"dataframe\">\n",
       "  <thead>\n",
       "    <tr style=\"text-align: right;\">\n",
       "      <th></th>\n",
       "      <th>Age</th>\n",
       "      <th>Gender</th>\n",
       "      <th>Heart rate</th>\n",
       "      <th>Systolic blood pressure</th>\n",
       "      <th>Diastolic blood pressure</th>\n",
       "      <th>Blood sugar</th>\n",
       "      <th>CK-MB</th>\n",
       "      <th>Troponin</th>\n",
       "      <th>Result</th>\n",
       "    </tr>\n",
       "  </thead>\n",
       "  <tbody>\n",
       "    <tr>\n",
       "      <th>0</th>\n",
       "      <td>64</td>\n",
       "      <td>1</td>\n",
       "      <td>66</td>\n",
       "      <td>160</td>\n",
       "      <td>83</td>\n",
       "      <td>160.0</td>\n",
       "      <td>1.80</td>\n",
       "      <td>0.012</td>\n",
       "      <td>negative</td>\n",
       "    </tr>\n",
       "    <tr>\n",
       "      <th>1</th>\n",
       "      <td>21</td>\n",
       "      <td>1</td>\n",
       "      <td>94</td>\n",
       "      <td>98</td>\n",
       "      <td>46</td>\n",
       "      <td>296.0</td>\n",
       "      <td>6.75</td>\n",
       "      <td>1.060</td>\n",
       "      <td>positive</td>\n",
       "    </tr>\n",
       "    <tr>\n",
       "      <th>2</th>\n",
       "      <td>55</td>\n",
       "      <td>1</td>\n",
       "      <td>64</td>\n",
       "      <td>160</td>\n",
       "      <td>77</td>\n",
       "      <td>270.0</td>\n",
       "      <td>1.99</td>\n",
       "      <td>0.003</td>\n",
       "      <td>negative</td>\n",
       "    </tr>\n",
       "    <tr>\n",
       "      <th>3</th>\n",
       "      <td>64</td>\n",
       "      <td>1</td>\n",
       "      <td>70</td>\n",
       "      <td>120</td>\n",
       "      <td>55</td>\n",
       "      <td>270.0</td>\n",
       "      <td>13.87</td>\n",
       "      <td>0.122</td>\n",
       "      <td>positive</td>\n",
       "    </tr>\n",
       "    <tr>\n",
       "      <th>4</th>\n",
       "      <td>55</td>\n",
       "      <td>1</td>\n",
       "      <td>64</td>\n",
       "      <td>112</td>\n",
       "      <td>65</td>\n",
       "      <td>300.0</td>\n",
       "      <td>1.08</td>\n",
       "      <td>0.003</td>\n",
       "      <td>negative</td>\n",
       "    </tr>\n",
       "    <tr>\n",
       "      <th>5</th>\n",
       "      <td>58</td>\n",
       "      <td>0</td>\n",
       "      <td>61</td>\n",
       "      <td>112</td>\n",
       "      <td>58</td>\n",
       "      <td>87.0</td>\n",
       "      <td>1.83</td>\n",
       "      <td>0.004</td>\n",
       "      <td>negative</td>\n",
       "    </tr>\n",
       "    <tr>\n",
       "      <th>6</th>\n",
       "      <td>32</td>\n",
       "      <td>0</td>\n",
       "      <td>40</td>\n",
       "      <td>179</td>\n",
       "      <td>68</td>\n",
       "      <td>102.0</td>\n",
       "      <td>0.71</td>\n",
       "      <td>0.003</td>\n",
       "      <td>negative</td>\n",
       "    </tr>\n",
       "    <tr>\n",
       "      <th>7</th>\n",
       "      <td>63</td>\n",
       "      <td>1</td>\n",
       "      <td>60</td>\n",
       "      <td>214</td>\n",
       "      <td>82</td>\n",
       "      <td>87.0</td>\n",
       "      <td>300.00</td>\n",
       "      <td>2.370</td>\n",
       "      <td>positive</td>\n",
       "    </tr>\n",
       "    <tr>\n",
       "      <th>8</th>\n",
       "      <td>44</td>\n",
       "      <td>0</td>\n",
       "      <td>60</td>\n",
       "      <td>154</td>\n",
       "      <td>81</td>\n",
       "      <td>135.0</td>\n",
       "      <td>2.35</td>\n",
       "      <td>0.004</td>\n",
       "      <td>negative</td>\n",
       "    </tr>\n",
       "    <tr>\n",
       "      <th>9</th>\n",
       "      <td>67</td>\n",
       "      <td>1</td>\n",
       "      <td>61</td>\n",
       "      <td>160</td>\n",
       "      <td>95</td>\n",
       "      <td>100.0</td>\n",
       "      <td>2.84</td>\n",
       "      <td>0.011</td>\n",
       "      <td>negative</td>\n",
       "    </tr>\n",
       "  </tbody>\n",
       "</table>\n",
       "</div>"
      ],
      "text/plain": [
       "   Age  Gender  Heart rate  Systolic blood pressure  Diastolic blood pressure  \\\n",
       "0   64       1          66                      160                        83   \n",
       "1   21       1          94                       98                        46   \n",
       "2   55       1          64                      160                        77   \n",
       "3   64       1          70                      120                        55   \n",
       "4   55       1          64                      112                        65   \n",
       "5   58       0          61                      112                        58   \n",
       "6   32       0          40                      179                        68   \n",
       "7   63       1          60                      214                        82   \n",
       "8   44       0          60                      154                        81   \n",
       "9   67       1          61                      160                        95   \n",
       "\n",
       "   Blood sugar   CK-MB  Troponin    Result  \n",
       "0        160.0    1.80     0.012  negative  \n",
       "1        296.0    6.75     1.060  positive  \n",
       "2        270.0    1.99     0.003  negative  \n",
       "3        270.0   13.87     0.122  positive  \n",
       "4        300.0    1.08     0.003  negative  \n",
       "5         87.0    1.83     0.004  negative  \n",
       "6        102.0    0.71     0.003  negative  \n",
       "7         87.0  300.00     2.370  positive  \n",
       "8        135.0    2.35     0.004  negative  \n",
       "9        100.0    2.84     0.011  negative  "
      ]
     },
     "execution_count": 35,
     "metadata": {},
     "output_type": "execute_result"
    }
   ],
   "source": [
    "df = pd.read_csv('Medicaldataset.csv')\n",
    "df.head(10)"
   ]
  },
  {
   "cell_type": "code",
   "execution_count": 36,
   "id": "df8bb265",
   "metadata": {},
   "outputs": [
    {
     "name": "stdout",
     "output_type": "stream",
     "text": [
      "Age                         0\n",
      "Gender                      0\n",
      "Heart rate                  0\n",
      "Systolic blood pressure     0\n",
      "Diastolic blood pressure    0\n",
      "Blood sugar                 0\n",
      "CK-MB                       0\n",
      "Troponin                    0\n",
      "Result                      0\n",
      "dtype: int64\n"
     ]
    }
   ],
   "source": [
    "valeurs_nulles = df.isnull().sum()\n",
    "print(valeurs_nulles)\n",
    "#Dans un premier temps on cherche à identifier les valeurs null dans le cas où nous aurions besoin de les traiter.\n",
    "#Cependant ici nous n'en avons pas."
   ]
  },
  {
   "cell_type": "code",
   "execution_count": 37,
   "id": "88d0afff",
   "metadata": {},
   "outputs": [],
   "source": [
    "# Étape 2: Supprimer les doublons\n",
    "df = df.drop_duplicates()"
   ]
  },
  {
   "cell_type": "code",
   "execution_count": 38,
   "id": "c2814fdb",
   "metadata": {},
   "outputs": [
    {
     "name": "stdout",
     "output_type": "stream",
     "text": [
      "   Age  Gender  Heart rate  Systolic blood pressure  Diastolic blood pressure  \\\n",
      "0   64       1          66                      160                        83   \n",
      "1   21       1          94                       98                        46   \n",
      "2   55       1          64                      160                        77   \n",
      "3   64       1          70                      120                        55   \n",
      "4   55       1          64                      112                        65   \n",
      "\n",
      "   Blood sugar  CK-MB  Troponin    Result  \n",
      "0        160.0   1.80     0.012  negative  \n",
      "1        296.0   6.75     1.060  positive  \n",
      "2        270.0   1.99     0.003  negative  \n",
      "3        270.0  13.87     0.122  positive  \n",
      "4        300.0   1.08     0.003  negative  \n"
     ]
    }
   ],
   "source": [
    "# Étape 3: Gérer les données manquantes\n",
    "# Pour cet exemple, nous allons simplement supprimer les lignes avec des valeurs manquantes\n",
    "df = df.dropna()\n",
    "print(df.head())"
   ]
  },
  {
   "cell_type": "code",
   "execution_count": 39,
   "id": "1fcc5457",
   "metadata": {},
   "outputs": [
    {
     "name": "stdout",
     "output_type": "stream",
     "text": [
      "   Age  Gender  Heart rate  Systolic blood pressure  Diastolic blood pressure  \\\n",
      "0   64       1          66                      160                        83   \n",
      "1   21       1          94                       98                        46   \n",
      "2   55       1          64                      160                        77   \n",
      "3   64       1          70                      120                        55   \n",
      "4   55       1          64                      112                        65   \n",
      "\n",
      "   Blood sugar  CK-MB  Troponin  Result  \n",
      "0        160.0   1.80     0.012       0  \n",
      "1        296.0   6.75     1.060       1  \n",
      "2        270.0   1.99     0.003       0  \n",
      "3        270.0  13.87     0.122       1  \n",
      "4        300.0   1.08     0.003       0  \n"
     ]
    }
   ],
   "source": [
    "# Remplacer les valeurs \"negative\" par 0 et \"positive\" par 1 dans la colonne \"Result\"\n",
    "df['Result'] = df['Result'].map({'negative': 0, 'positive': 1})\n",
    "\n",
    "# Afficher les première ligne du dataframe pour verification\n",
    "print(df.head())\n"
   ]
  },
  {
   "cell_type": "code",
   "execution_count": 41,
   "id": "5bf50b48",
   "metadata": {},
   "outputs": [
    {
     "name": "stdout",
     "output_type": "stream",
     "text": [
      "Accuracy (SVM): 0.9367088607594937\n",
      "Classification Report (SVM):\n",
      "               precision    recall  f1-score   support\n",
      "\n",
      "       False       0.93      0.97      0.95        93\n",
      "        True       0.95      0.89      0.92        65\n",
      "\n",
      "    accuracy                           0.94       158\n",
      "   macro avg       0.94      0.93      0.93       158\n",
      "weighted avg       0.94      0.94      0.94       158\n",
      "\n",
      "Confusion Matrix (SVM):\n",
      " [[90  3]\n",
      " [ 7 58]]\n"
     ]
    }
   ],
   "source": [
    "from sklearn.svm import SVC  # Importation de la classe SVC depuis sklearn biblio\n",
    "\n",
    "# Creation et entrainement du modele SVM en premier pour commencer\n",
    "svm_classifier = SVC(kernel='linear', random_state=42)  # Création d'une instance de SVC avec un noyau linéaire\n",
    "svm_classifier.fit(X_train, y_train)  # Entraînement du model sur l'ensemble de données d'entraînement qu'on a def et on utilise la fonction fit \n",
    "#qui ajuste automatiquement les parametre du modele pour avoir la moins de perte possible\n",
    "\n",
    "# Prédiction sur l'ensemble de test avec .predict sur X_test\n",
    "y_pred_svm = svm_classifier.predict(X_test)\n",
    "\n",
    "# Évaluation du modele avec les metriques de performances suivante : \n",
    "accuracy_svm = accuracy_score(y_test, y_pred_svm)  # Calcul de l'accuracy du modele\n",
    "print(\"Accuracy (SVM):\", accuracy_svm)  # print pour l'afficher\n",
    "print(\"Classification Report (SVM):\\n\", classification_report(y_test, y_pred_svm))  #  rapport de classification du modele\n",
    "print(\"Confusion Matrix (SVM):\\n\", confusion_matrix(y_test, y_pred_svm))  #  la matrice de confusion du modèle svmm\n",
    "# note  permet de voir la qualité des prédictions en comparant les prédictions du modele avec les vraies donnees des échantillons\n"
   ]
  },
  {
   "cell_type": "code",
   "execution_count": 42,
   "id": "bd0d8c2c",
   "metadata": {},
   "outputs": [
    {
     "name": "stdout",
     "output_type": "stream",
     "text": [
      "Accuracy (KNN): 0.7848101265822784\n",
      "Classification Report (KNN):\n",
      "               precision    recall  f1-score   support\n",
      "\n",
      "       False       0.77      0.91      0.83        93\n",
      "        True       0.83      0.60      0.70        65\n",
      "\n",
      "    accuracy                           0.78       158\n",
      "   macro avg       0.80      0.76      0.76       158\n",
      "weighted avg       0.79      0.78      0.78       158\n",
      "\n",
      "Confusion Matrix (KNN):\n",
      " [[85  8]\n",
      " [26 39]]\n"
     ]
    }
   ],
   "source": [
    "from sklearn.neighbors import KNeighborsClassifier\n",
    "\n",
    "# Creation et entrainement du modele  KNN\n",
    "knn_classifier = KNeighborsClassifier()\n",
    "knn_classifier.fit(X_train, y_train)\n",
    "\n",
    "# Création d'une instance de KNeighborsClassifier avec k=3 TEST 4 pour un meilleur accurary , enlever car on a un moins bien resultat\n",
    "#knn_classifier = KNeighborsClassifier(n_neighbors=3)\n",
    "\n",
    "# Prédiction sur l'ensemble de test\n",
    "y_pred_knn = knn_classifier.predict(X_test)\n",
    "\n",
    "# Évaluation du modeles\n",
    "accuracy_knn = accuracy_score(y_test, y_pred_knn)\n",
    "print(\"Accuracy (KNN):\", accuracy_knn)\n",
    "print(\"Classification Report (KNN):\\n\", classification_report(y_test, y_pred_knn))\n",
    "print(\"Confusion Matrix (KNN):\\n\", confusion_matrix(y_test, y_pred_knn))\n"
   ]
  },
  {
   "cell_type": "code",
   "execution_count": 43,
   "id": "854980fb",
   "metadata": {},
   "outputs": [
    {
     "name": "stdout",
     "output_type": "stream",
     "text": [
      "Accuracy (Naive Bayes): 0.9493670886075949\n",
      "Classification Report (Naive Bayes):\n",
      "               precision    recall  f1-score   support\n",
      "\n",
      "       False       0.95      0.97      0.96        93\n",
      "        True       0.95      0.92      0.94        65\n",
      "\n",
      "    accuracy                           0.95       158\n",
      "   macro avg       0.95      0.95      0.95       158\n",
      "weighted avg       0.95      0.95      0.95       158\n",
      "\n",
      "Confusion Matrix (Naive Bayes):\n",
      " [[90  3]\n",
      " [ 5 60]]\n"
     ]
    }
   ],
   "source": [
    "from sklearn.naive_bayes import GaussianNB\n",
    "\n",
    "# Création et entrainement du modele Naive Bayes\n",
    "naive_bayes_classifier = GaussianNB()\n",
    "naive_bayes_classifier.fit(X_train, y_train)\n",
    "\n",
    "# Prédiction sur l'ensemble de test\n",
    "y_pred_nb = naive_bayes_classifier.predict(X_test)\n",
    "\n",
    "# Évaluation du modele\n",
    "accuracy_nb = accuracy_score(y_test, y_pred_nb)\n",
    "print(\"Accuracy (Naive Bayes):\", accuracy_nb)\n",
    "print(\"Classification Report (Naive Bayes):\\n\", classification_report(y_test, y_pred_nb))\n",
    "print(\"Confusion Matrix (Naive Bayes):\\n\", confusion_matrix(y_test, y_pred_nb))\n"
   ]
  },
  {
   "cell_type": "code",
   "execution_count": 44,
   "id": "966fbe04",
   "metadata": {},
   "outputs": [
    {
     "data": {
      "image/png": "[encoded data removed]",
      "text/plain": [
       "<Figure size 1000x600 with 3 Axes>"
      ]
     },
     "metadata": {},
     "output_type": "display_data"
    }
   ],
   "source": [
    "  import matplotlib.pyplot as plt\n",
    "\n",
    "# Précision, Rappel et F1-score pour chaque modèle pour le False\n",
    "precision = [0.93, 0.77, 0.95]\n",
    "recall = [0.97, 0.91, 0.97]\n",
    "f1_score = [0.95, 0.83, 0.96]\n",
    "\n",
    "# Noms des modele utilisé\n",
    "models = ['SVM', 'KNN', 'Naive Bayes']\n",
    "\n",
    "# Création du diagramme à barres figure\n",
    "plt.figure(figsize=(10, 6))\n",
    "\n",
    "# Précision\n",
    "plt.subplot(1, 3, 1)\n",
    "plt.bar(models, precision, color=['blue', 'green', 'red'])\n",
    "plt.title('Précision')\n",
    "plt.ylim(0, 1)\n",
    "\n",
    "# Rappel\n",
    "plt.subplot(1, 3, 2)\n",
    "plt.bar(models, recall, color=['blue', 'green', 'red'])\n",
    "plt.title('Rappel')\n",
    "plt.ylim(0, 1)\n",
    "\n",
    "# F1-score\n",
    "plt.subplot(1, 3, 3)\n",
    "plt.bar(models, f1_score, color=['blue', 'green', 'red'])\n",
    "plt.title('F1-score')\n",
    "plt.ylim(0, 1)\n",
    "\n",
    "plt.tight_layout()\n",
    "plt.show() #print affichage"
   ]
  },
  {
   "cell_type": "code",
   "execution_count": null,
   "id": "a5a68861",
   "metadata": {},
   "outputs": [],
   "source": []
  },
  {
   "cell_type": "code",
   "execution_count": null,
   "id": "d4fd492b",
   "metadata": {},
   "outputs": [],
   "source": []
  },
  {
   "cell_type": "code",
   "execution_count": null,
   "id": "0b94efdb",
   "metadata": {},
   "outputs": [],
   "source": []
  },
  {
   "cell_type": "code",
   "execution_count": null,
   "id": "48e2310e",
   "metadata": {},
   "outputs": [],
   "source": []
  },
  {
   "cell_type": "code",
   "execution_count": null,
   "id": "d6bfb8a0",
   "metadata": {},
   "outputs": [],
   "source": []
  },
  {
   "cell_type": "code",
   "execution_count": null,
   "id": "7fa25c6e",
   "metadata": {},
   "outputs": [],
   "source": []
  }
 ],
 "metadata": {
  "kernelspec": {
   "display_name": "Python 3 (ipykernel)",
   "language": "python",
   "name": "python3"
  },
  "language_info": {
   "codemirror_mode": {
    "name": "ipython",
    "version": 3
   },
   "file_extension": ".py",
   "mimetype": "text/x-python",
   "name": "python",
   "nbconvert_exporter": "python",
   "pygments_lexer": "ipython3",
   "version": "3.11.5"
  }
 },
 "nbformat": 4,
 "nbformat_minor": 5
}
